{
  "nbformat": 4,
  "nbformat_minor": 0,
  "metadata": {
    "colab": {
      "name": "dsc_from_generated_samples.ipynb",
      "provenance": [],
      "collapsed_sections": [
        "sBaLM7g6yQou",
        "zQRjrvK945lt",
        "Qxq8wTKS5G_l",
        "yz4aXbBY5iZ1",
        "f7JKrabO40jl",
        "13K944Pw03f1",
        "q_GQaWkE2yHs",
        "p2yqX-fAzUxa",
        "YCNBQEhd4BqD",
        "U0tgxkiG4sBR",
        "KNYhXsCK4icy",
        "0720Hn4B39Sa"
      ],
      "machine_shape": "hm"
    },
    "kernelspec": {
      "name": "python3",
      "display_name": "Python 3"
    },
    "accelerator": "GPU"
  },
  "cells": [
    {
      "cell_type": "code",
      "metadata": {
        "id": "ZYbmMA104c0x",
        "colab_type": "code",
        "colab": {}
      },
      "source": [
        "!pip install tensorflow==2.0.0b1\n",
        "!pip install SimpleITK\n",
        "import tensorflow as tf\n",
        "assert tf.__version__=='2.0.0-beta1'\n",
        "# DON'T use the magic %tensorflow_version 2.0, it will load the stable version which could alter the model output.\n",
        "\n",
        "from tensorflow import keras\n",
        "import numpy as np\n",
        "import matplotlib.pyplot as plt\n",
        "import os\n",
        "from IPython import display\n",
        "import time\n",
        "import math\n",
        "import warnings\n",
        "warnings.filterwarnings(\"ignore\")\n",
        "\n",
        "import sys\n",
        "sys.path.append('./drive/My Drive/Segmentation')\n",
        "\n",
        "print(tf.__version__)\n",
        "\n",
        "from google.colab import drive\n",
        "drive.mount('/content/drive')"
      ],
      "execution_count": 0,
      "outputs": []
    },
    {
      "cell_type": "code",
      "metadata": {
        "id": "qoU-9VlS5dbn",
        "colab_type": "code",
        "colab": {}
      },
      "source": [
        "BATCH_SIZE = 128\n",
        "mods = ['MR_Flair_mri', 'pix2pix_Flair_mri', 'MIpix2pix_Flair_mri', 'MIGAN_Flair_mri', 'OT_mri']\n",
        "\n",
        "\n",
        "# PROCESSING IMAGES IN THE BATCH\n",
        "def process_batch(batch):   # takes in input a raw_record[mod].numpy()\n",
        "    batch = tf.io.decode_raw(batch, tf.float32)\n",
        "    batch = tf.reshape(batch, (1, 256, 256))\n",
        "    batch = tf.squeeze(batch)\n",
        "    batch = tf.expand_dims(batch, axis=2)\n",
        "    return batch\n",
        "\n",
        "def retrieve_dataset(dataset_dir, shuffle=False, shuffle_buffer=128):\n",
        "    dataset = tf.data.TFRecordDataset(dataset_dir)\n",
        "    # Create a dictionary describing the features.\n",
        "    image_feature_description = {\n",
        "        mods[0]: tf.io.FixedLenFeature([], tf.string),\n",
        "        mods[1]: tf.io.FixedLenFeature([], tf.string),\n",
        "        mods[2]: tf.io.FixedLenFeature([], tf.string),\n",
        "        mods[3]: tf.io.FixedLenFeature([], tf.string),\n",
        "        mods[4]: tf.io.FixedLenFeature([], tf.string),\n",
        "    }\n",
        "    def _parse_image_function(example_proto):\n",
        "    # Parse the input tf.Example proto using the dictionary above.\n",
        "        parsed = tf.io.parse_single_example(example_proto, image_feature_description)\n",
        "        batch0 = process_batch(parsed[mods[0]])\n",
        "        batch1 = process_batch(parsed[mods[1]])\n",
        "        batch2 = process_batch(parsed[mods[2]])\n",
        "        batch3 = process_batch(parsed[mods[3]])\n",
        "        batch4 = process_batch(parsed[mods[4]])\n",
        "        return batch0, batch1, batch2, batch3, batch4\n",
        "\n",
        "    dataset = dataset.shuffle(shuffle_buffer, seed=1234567890, reshuffle_each_iteration=True) if shuffle else dataset\n",
        "    dataset = dataset.map(_parse_image_function)\n",
        "    dataset = dataset.batch(BATCH_SIZE) if BATCH_SIZE > 0 else dataset\n",
        "    dataset = dataset.prefetch(buffer_size=tf.data.experimental.AUTOTUNE)\n",
        "    return dataset\n",
        "\n",
        "def plot_images(*args): \n",
        "    \n",
        "    if len(args) == 5:\n",
        "        display_list = [args[0], args[1], args[2], args[3], args[4]]   # input, gt, prediction, gt masked, pred masked\n",
        "        title = ['$\\mathit{T_{2flair}}$', 'Pred p2p', 'Pred MI-p2p', 'Pred MI-GAN', 'Ground Truth']\n",
        "        figsize = (14, 7)\n",
        "    elif len(args) == 3:\n",
        "        display_list = [args[0], args[1], args[2]]   # input, gt and prediction\n",
        "        title = [r'$\\it{T_{2flair}}$', r'$\\it{Ground\\ Truth}$', r'$\\it{Segmentation}$']\n",
        "        figsize = (10, 5)\n",
        "    elif len(args) == 9:\n",
        "        display_list = [args[0], args[1], args[2], args[3], args[4], args[5], args[6], args[7], args[8]]\n",
        "        title = [r'${T_{2flair}}$', r'$\\it{Pred\\ p2p}$', r'$\\it{Pred\\ MI-p2p}$', r'$\\it{Pred\\ MI-GAN}$', r'$\\it{Ground\\ Truth}$', r'$\\it{Segmentation}$', r'$\\it{Segm.\\ p2p}$', r'$\\it{Segm.\\ MI-p2p}$', r'$\\it{Segm.\\ MI-GAN}$']\n",
        "       \n",
        "        figsize = (23, 12)\n",
        "    plt.figure(1 , figsize)\n",
        "    n = 0\n",
        "    for i in range(len(args)):    # batch size is different from 10, but let's show just 10 images.\n",
        "        n += 1\n",
        "        plt.subplot(1, len(args), n).title.set_text(title[i])\n",
        "        plt.subplot(1, len(args), n).title.set_size(16)\n",
        "        plt.imshow(tf.squeeze(display_list[i]), cmap='bone')\n",
        "        plt.axis('off')\n",
        "    plt.subplots_adjust(left=0, bottom=None, right=0.75, top=None, wspace=0.0, hspace=None)\n",
        "    plt.show()"
      ],
      "execution_count": 0,
      "outputs": []
    },
    {
      "cell_type": "code",
      "metadata": {
        "id": "9VQ5oZzjHaDp",
        "colab_type": "code",
        "outputId": "91737cdf-c85a-49b5-e544-168becd43db1",
        "colab": {
          "base_uri": "https://localhost:8080/",
          "height": 88
        }
      },
      "source": [
        "generated_dataset = retrieve_dataset('./drive/My Drive/Segmentation/generated_testing_mri.tfrecords', shuffle=True, shuffle_buffer=3584)"
      ],
      "execution_count": 0,
      "outputs": [
        {
          "output_type": "stream",
          "text": [
            "WARNING:tensorflow:From /usr/local/lib/python3.6/dist-packages/tensorflow/python/data/util/random_seed.py:58: add_dispatch_support.<locals>.wrapper (from tensorflow.python.ops.array_ops) is deprecated and will be removed in a future version.\n",
            "Instructions for updating:\n",
            "Use tf.where in 2.0, which has the same broadcast rule as np.where\n"
          ],
          "name": "stdout"
        }
      ]
    },
    {
      "cell_type": "code",
      "metadata": {
        "colab_type": "code",
        "outputId": "74cfd40f-5564-4d4b-be0d-ab6dcbe985fe",
        "id": "SMw5tOHkLDmS",
        "colab": {
          "base_uri": "https://localhost:8080/",
          "height": 102
        }
      },
      "source": [
        "from DeepMRI import DeepMRI\n",
        "import SegAN_IO_arch as arch\n",
        "\n",
        "model_name = 'Segan_IO_TF2_brats_on_FLAIR' # The name of the folder inside './models' containing the model to load\n",
        "mri_channels = 1 # input channels (modalities)\n",
        "\n",
        "gan = DeepMRI(batch_size=BATCH_SIZE, size=256, mri_channels=mri_channels, model_name=model_name)\n",
        "gan.build_model(load_model='last', seed=1234567890, arch=arch)"
      ],
      "execution_count": 0,
      "outputs": [
        {
          "output_type": "stream",
          "text": [
            "No GPU found, model running on CPU\n",
            "No GPU found, model running on CPU\n",
            "Using architecture: SegAN_IO_arch\n",
            "Latest Checkpoint is: ./drive/My Drive/Segmentation/models/Segan_IO_TF2_brats_on_FLAIR/best_dice_score_168-29\n",
            "Loaded model from: last, next epoch: 169\n"
          ],
          "name": "stdout"
        }
      ]
    },
    {
      "cell_type": "code",
      "metadata": {
        "id": "9U4pCa1ZHdiY",
        "colab_type": "code",
        "colab": {}
      },
      "source": [
        "for tflair, p2p_pred, mip2p_pred, migan_pred, gt in generated_dataset.take(1):\n",
        "    segmentation = gan.generator(tflair, training=False)\n",
        "    #segm_p2p_pred = gan.generator(p2p_pred, training=False)\n",
        "    #segm_mip2p_pred = gan.generator(mip2p_pred, training=False)\n",
        "    #segm_migan_pred = gan.generator(migan_pred, training=False)"
      ],
      "execution_count": 0,
      "outputs": []
    },
    {
      "cell_type": "code",
      "metadata": {
        "id": "FzFGZPBlKGNs",
        "colab_type": "code",
        "outputId": "94a04d98-7755-4e2b-be84-bbabee531e68",
        "colab": {
          "base_uri": "https://localhost:8080/",
          "height": 445
        }
      },
      "source": [
        "for i in range(64):\n",
        "    if i in [9, 16]:\n",
        "        plot_images(tflair[i], gt[i], segmentation[i])"
      ],
      "execution_count": 0,
      "outputs": [
        {
          "output_type": "display_data",
          "data": {
            "image/png": "[encoded data removed]",
            "text/plain": [
              "<Figure size 720x360 with 3 Axes>"
            ]
          },
          "metadata": {
            "tags": []
          }
        },
        {
          "output_type": "display_data",
          "data": {
            "image/png": "[encoded data removed]",
            "text/plain": [
              "<Figure size 720x360 with 3 Axes>"
            ]
          },
          "metadata": {
            "tags": []
          }
        }
      ]
    },
    {
      "cell_type": "code",
      "metadata": {
        "id": "2GOdfJQp2e1l",
        "colab_type": "code",
        "outputId": "f4c8c081-c0de-4514-fb67-0ecf38f81ae9",
        "colab": {
          "base_uri": "https://localhost:8080/",
          "height": 189
        }
      },
      "source": [
        "idx = 0\n",
        "for tflair, p2p_pred, mip2p_pred, migan_pred, gt in generated_dataset.take(3):\n",
        "\n",
        "    segmentation = gan.generator(tflair, training=False)\n",
        "    segm_p2p_pred = gan.generator(p2p_pred, training=False)\n",
        "    segm_mip2p_pred = gan.generator(mip2p_pred, training=False)\n",
        "    segm_migan_pred = gan.generator(migan_pred, training=False)\n",
        "    if idx == 2:\n",
        "         plot_images_new(tflair, p2p_pred, mip2p_pred, migan_pred, gt, segmentation, segm_p2p_pred, segm_mip2p_pred, segm_migan_pred)\n",
        "    idx += 1"
      ],
      "execution_count": 0,
      "outputs": [
        {
          "output_type": "display_data",
          "data": {
            "image/png": "[encoded data removed]",
            "text/plain": [
              "<Figure size 1656x864 with 9 Axes>"
            ]
          },
          "metadata": {
            "tags": []
          }
        }
      ]
    },
    {
      "cell_type": "markdown",
      "metadata": {
        "id": "0mPBIZ90HCHd",
        "colab_type": "text"
      },
      "source": [
        "# Compute DICE score"
      ]
    },
    {
      "cell_type": "code",
      "metadata": {
        "id": "SDSLGvcFoVhJ",
        "colab_type": "code",
        "colab": {}
      },
      "source": [
        "def compute_metrics(y_true, y_pred, threshold=0.5):\n",
        "      # Boolean segmentation outputs\n",
        "    # Condition Positive - real positive cases\n",
        "    CP = tf.greater(y_true, threshold)  # Ground truth\n",
        "    # Predicted Condition Positive - predicted positive cases\n",
        "    PCP = tf.greater(y_pred, threshold)   # Segmentation from S (prediction)\n",
        "    # Codition Negative\n",
        "    CN = tf.math.logical_not(CP)\n",
        "    # Predicted Condition Negative\n",
        "    PCN = tf.math.logical_not(PCP)\n",
        "    TP = tf.math.count_nonzero(tf.math.logical_and(CP, PCP), axis=(1, 2))\n",
        "    FP = tf.math.count_nonzero(tf.math.logical_and(CN, PCP), axis=(1, 2))\n",
        "    FN = tf.math.count_nonzero(tf.math.logical_and(CP, PCN), axis=(1, 2))\n",
        "    TN = tf.math.count_nonzero(tf.math.logical_and(CN, PCN), axis=(1, 2))\n",
        "\n",
        "    return TP, FP, FN, TN"
      ],
      "execution_count": 0,
      "outputs": []
    },
    {
      "cell_type": "code",
      "metadata": {
        "id": "Vh2OoDEMq0XR",
        "colab_type": "code",
        "outputId": "805c19d2-e42e-4872-b53c-7fbda2aea9c5",
        "colab": {
          "base_uri": "https://localhost:8080/",
          "height": 102
        }
      },
      "source": [
        "from DeepMRI import DeepMRI\n",
        "import SegAN_IO_arch as arch\n",
        "\n",
        "model_name = 'Segan_IO_TF2_brats_on_FLAIR' # The name of the folder inside './models' containing the model to load\n",
        "mri_channels = 1 # input channels (modalities)\n",
        "\n",
        "gan = DeepMRI(batch_size=BATCH_SIZE, size=256, mri_channels=mri_channels, model_name=model_name)\n",
        "gan.build_model(load_model='last', seed=1234567890, arch=arch)"
      ],
      "execution_count": 0,
      "outputs": [
        {
          "output_type": "stream",
          "text": [
            "No GPU found, model running on CPU\n",
            "No GPU found, model running on CPU\n",
            "Using architecture: SegAN_IO_arch\n",
            "Latest Checkpoint is: ./drive/My Drive/Segmentation/models/Segan_IO_TF2_brats_on_FLAIR/best_dice_score_168-29\n",
            "Loaded model from: last, next epoch: 169\n"
          ],
          "name": "stdout"
        }
      ]
    },
    {
      "cell_type": "code",
      "metadata": {
        "id": "jZYNk7HKXVQ5",
        "colab_type": "code",
        "colab": {}
      },
      "source": [
        "generated_dataset = retrieve_dataset('./drive/My Drive/Segmentation/generated_testing_mri.tfrecords', shuffle=False, shuffle_buffer=3584)"
      ],
      "execution_count": 0,
      "outputs": []
    },
    {
      "cell_type": "code",
      "metadata": {
        "id": "YUTT1uWUkkc5",
        "colab_type": "code",
        "colab": {}
      },
      "source": [
        "container_dice = tf.TensorArray(tf.float64, size=28)    # 28 is the number of volumes in the testing set\n",
        "\n",
        "idx = 0\n",
        "for tflair, p2p_pred, mip2p_pred, migan_pred, gt in generated_dataset.take(28):\n",
        "    #print(tflair.shape)\n",
        "    print(idx)\n",
        "    #segmentation_tflair = gan.generator(tflair, training=False)\n",
        "    #segm_p2p_pred = gan.generator(p2p_pred, training=False)\n",
        "    segm_mip2p_pred = gan.generator(mip2p_pred, training=False)\n",
        "    #segm_migan_pred = gan.generator(migan_pred, training=False)\n",
        "\n",
        "    #tf.math.count_nonzero\n",
        "    TP, FP, FN, TN = compute_metrics(gt, segm_mip2p_pred)\n",
        "\n",
        "    FP_np = FP.numpy()\n",
        "    index = 0\n",
        "\n",
        "    for i in gt:\n",
        "        if tf.math.equal((tf.math.count_nonzero(i)), 0):\n",
        "            FP_np[index] = 0       # set to zero all the FP in a volume where the ground truth is a black image.\n",
        "        index += 1\n",
        "\n",
        "    TP_volume = tf.reduce_sum(TP)\n",
        "    FP_volume = tf.reduce_sum(FP_np)\n",
        "    FN_volume = tf.reduce_sum(FN)\n",
        "    TN_volume = tf.reduce_sum(TN)\n",
        "    dice_score = tf.where(tf.greater(TP_volume+FP_volume+FN_volume, 0), (2*TP_volume)/(2*TP_volume+FP_volume+FN_volume), 1.0)\n",
        "    container_dice = container_dice.write(idx, dice_score)\n",
        "\n",
        "    idx += 1\n",
        "container_dice = container_dice.stack()"
      ],
      "execution_count": 0,
      "outputs": []
    },
    {
      "cell_type": "code",
      "metadata": {
        "id": "cTJQA4-Vkqbw",
        "colab_type": "code",
        "colab": {}
      },
      "source": [
        "print(container_dice)\n",
        "\n",
        "mean = tf.reduce_mean(container_dice)\n",
        "std = tf.math.reduce_std(container_dice)\n",
        "print(\"DICE score over gt and mip2p: {} ± {}\".format((f'{mean:.4f}'), (f'{std:.4f}')))"
      ],
      "execution_count": 0,
      "outputs": []
    },
    {
      "cell_type": "markdown",
      "metadata": {
        "id": "sBaLM7g6yQou",
        "colab_type": "text"
      },
      "source": [
        "# DICE score on (gt, T2flair)\n"
      ]
    },
    {
      "cell_type": "markdown",
      "metadata": {
        "id": "vHqWK8pIQ-3Z",
        "colab_type": "text"
      },
      "source": [
        "Using 256x256: 0.8053 ± 0.1156\n",
        "\n",
        "Using 160x160: 0.8040 ± 0.1144"
      ]
    },
    {
      "cell_type": "code",
      "metadata": {
        "id": "BmK1fNq1CSGI",
        "colab_type": "code",
        "outputId": "64c1d464-b321-4ead-9029-5b31439084ea",
        "colab": {
          "base_uri": "https://localhost:8080/",
          "height": 136
        }
      },
      "source": [
        "print(container_dice)\n",
        "\n",
        "mean = tf.reduce_mean(container_dice)\n",
        "std = tf.math.reduce_std(container_dice)\n",
        "print(\"DICE score over gt and tflair: {} ± {}\".format((f'{mean:.4f}'), (f'{std:.4f}')))"
      ],
      "execution_count": 0,
      "outputs": [
        {
          "output_type": "stream",
          "text": [
            "tf.Tensor(\n",
            "[0.88053779 0.80952381 0.88572343 0.7726957  0.7838443  0.8888017\n",
            " 0.90575967 0.72433678 0.84575416 0.8905769  0.84992927 0.74051336\n",
            " 0.86359954 0.90538777 0.74861702 0.59589458 0.78174928 0.78482449\n",
            " 0.87573773 0.90919536 0.75852402 0.8376274  0.85285687 0.3592787\n",
            " 0.72662323 0.72914537 0.89477116 0.94796917], shape=(28,), dtype=float64)\n",
            "DICE score over gt and tflair: 0.8053 ± 0.1156\n"
          ],
          "name": "stdout"
        }
      ]
    },
    {
      "cell_type": "markdown",
      "metadata": {
        "id": "zQRjrvK945lt",
        "colab_type": "text"
      },
      "source": [
        "# Without normalization of the predictions"
      ]
    },
    {
      "cell_type": "markdown",
      "metadata": {
        "id": "wnPYGuWy497A",
        "colab_type": "text"
      },
      "source": [
        "## DICE score on (gt, MIp2p)"
      ]
    },
    {
      "cell_type": "code",
      "metadata": {
        "id": "_cSaJ4fD5BBT",
        "colab_type": "code",
        "outputId": "7c322921-8884-4387-86b1-b30654735849",
        "colab": {
          "base_uri": "https://localhost:8080/",
          "height": 136
        }
      },
      "source": [
        "container_dice"
      ],
      "execution_count": 0,
      "outputs": [
        {
          "output_type": "execute_result",
          "data": {
            "text/plain": [
              "<tf.Tensor: id=31644, shape=(28,), dtype=float64, numpy=\n",
              "array([0.87460226, 0.76362472, 0.89266072, 0.7177674 , 0.72653416,\n",
              "       0.78039481, 0.87955379, 0.85870367, 0.79884851, 0.84184278,\n",
              "       0.87068316, 0.72449003, 0.83106582, 0.88012152, 0.74315176,\n",
              "       0.73840445, 0.8485346 , 0.01907211, 0.86186972, 0.83988953,\n",
              "       0.7227646 , 0.69291897, 0.79196387, 0.53073934, 0.89198654,\n",
              "       0.74146877, 0.48934611, 0.44192931])>"
            ]
          },
          "metadata": {
            "tags": []
          },
          "execution_count": 28
        }
      ]
    },
    {
      "cell_type": "code",
      "metadata": {
        "id": "uYLso68O5CZ1",
        "colab_type": "code",
        "outputId": "c052c257-e4fd-4aca-f1ff-c13355eeaf56",
        "colab": {
          "base_uri": "https://localhost:8080/",
          "height": 34
        }
      },
      "source": [
        "mean = tf.reduce_mean(container_dice)\n",
        "std = tf.math.reduce_std(container_dice)\n",
        "print(\"DICE score over gt and mip2p: {} ± {}\".format((f'{mean:.4f}'), (f'{std:.4f}')))"
      ],
      "execution_count": 0,
      "outputs": [
        {
          "output_type": "stream",
          "text": [
            "DICE score over gt and mip2p: 0.7427 ± 0.1810\n"
          ],
          "name": "stdout"
        }
      ]
    },
    {
      "cell_type": "markdown",
      "metadata": {
        "id": "Qxq8wTKS5G_l",
        "colab_type": "text"
      },
      "source": [
        "## DICE score on (gt, MIGAN)"
      ]
    },
    {
      "cell_type": "code",
      "metadata": {
        "id": "bBhp0h8S5W_t",
        "colab_type": "code",
        "outputId": "0265258c-7926-4337-a967-930c6e043b89",
        "colab": {
          "base_uri": "https://localhost:8080/",
          "height": 136
        }
      },
      "source": [
        "container_dice"
      ],
      "execution_count": 0,
      "outputs": [
        {
          "output_type": "execute_result",
          "data": {
            "text/plain": [
              "<tf.Tensor: id=37573, shape=(28,), dtype=float64, numpy=\n",
              "array([0.85090396, 0.78219715, 0.86677202, 0.73130863, 0.67839117,\n",
              "       0.79347185, 0.8755578 , 0.86695871, 0.57193923, 0.82026984,\n",
              "       0.8436284 , 0.68455751, 0.81285466, 0.85230818, 0.72052782,\n",
              "       0.63006469, 0.7512054 , 0.11454935, 0.83217246, 0.80383625,\n",
              "       0.64549423, 0.67601688, 0.69373388, 0.50582892, 0.87143883,\n",
              "       0.5102204 , 0.32405616, 0.03371504])>"
            ]
          },
          "metadata": {
            "tags": []
          },
          "execution_count": 31
        }
      ]
    },
    {
      "cell_type": "code",
      "metadata": {
        "id": "8-6zdM205NJ4",
        "colab_type": "code",
        "outputId": "692865c3-b64b-4109-c599-0980971cb315",
        "colab": {
          "base_uri": "https://localhost:8080/",
          "height": 34
        }
      },
      "source": [
        "mean = tf.reduce_mean(container_dice)\n",
        "std = tf.math.reduce_std(container_dice)\n",
        "print(\"DICE score over gt and migan: {} ± {}\".format((f'{mean:.4f}'), (f'{std:.4f}')))"
      ],
      "execution_count": 0,
      "outputs": [
        {
          "output_type": "stream",
          "text": [
            "DICE score over gt and migan: 0.6837 ± 0.2136\n"
          ],
          "name": "stdout"
        }
      ]
    },
    {
      "cell_type": "markdown",
      "metadata": {
        "id": "yz4aXbBY5iZ1",
        "colab_type": "text"
      },
      "source": [
        "## DICE score on (gt, p2p)\n"
      ]
    },
    {
      "cell_type": "code",
      "metadata": {
        "id": "1wZ_sg9z5j7P",
        "colab_type": "code",
        "outputId": "54f7235b-7d4c-4736-bc3b-4e3e6d698ff5",
        "colab": {
          "base_uri": "https://localhost:8080/",
          "height": 136
        }
      },
      "source": [
        "container_dice"
      ],
      "execution_count": 0,
      "outputs": [
        {
          "output_type": "execute_result",
          "data": {
            "text/plain": [
              "<tf.Tensor: id=43502, shape=(28,), dtype=float64, numpy=\n",
              "array([0.73326679, 0.7916377 , 0.8376503 , 0.70001936, 0.55990326,\n",
              "       0.64581554, 0.81915918, 0.87337315, 0.38066739, 0.74247597,\n",
              "       0.81079871, 0.70648231, 0.74862595, 0.69376344, 0.67721907,\n",
              "       0.64943189, 0.781232  , 0.29570093, 0.76453006, 0.79639912,\n",
              "       0.48999475, 0.59077174, 0.62059741, 0.44956978, 0.91015224,\n",
              "       0.6549228 , 0.28713529, 0.55953455])>"
            ]
          },
          "metadata": {
            "tags": []
          },
          "execution_count": 34
        }
      ]
    },
    {
      "cell_type": "code",
      "metadata": {
        "id": "sUwNCmiV5nmx",
        "colab_type": "code",
        "outputId": "7fcec001-c03d-4863-80b1-f09fef2bca06",
        "colab": {
          "base_uri": "https://localhost:8080/",
          "height": 34
        }
      },
      "source": [
        "mean = tf.reduce_mean(container_dice)\n",
        "std = tf.math.reduce_std(container_dice)\n",
        "print(\"DICE score over gt and p2p: {} ± {}\".format((f'{mean:.4f}'), (f'{std:.4f}')))"
      ],
      "execution_count": 0,
      "outputs": [
        {
          "output_type": "stream",
          "text": [
            "DICE score over gt and p2p: 0.6632 ± 0.1608\n"
          ],
          "name": "stdout"
        }
      ]
    },
    {
      "cell_type": "markdown",
      "metadata": {
        "id": "f7JKrabO40jl",
        "colab_type": "text"
      },
      "source": [
        "# With normalization of the predictions"
      ]
    },
    {
      "cell_type": "markdown",
      "metadata": {
        "id": "13K944Pw03f1",
        "colab_type": "text"
      },
      "source": [
        "## DICE score on (gt, MIp2p)\n"
      ]
    },
    {
      "cell_type": "code",
      "metadata": {
        "id": "gu20BjSm06hq",
        "colab_type": "code",
        "outputId": "20a5faf3-d352-4653-81a1-5013c2eeb4df",
        "colab": {
          "base_uri": "https://localhost:8080/",
          "height": 136
        }
      },
      "source": [
        "container_dice"
      ],
      "execution_count": 0,
      "outputs": [
        {
          "output_type": "execute_result",
          "data": {
            "text/plain": [
              "<tf.Tensor: id=19719, shape=(28,), dtype=float64, numpy=\n",
              "array([0.88198419, 0.77027499, 0.8938637 , 0.694699  , 0.69546011,\n",
              "       0.77286119, 0.88401569, 0.86177798, 0.73995673, 0.84726292,\n",
              "       0.86954395, 0.69517481, 0.78243309, 0.88736341, 0.71465382,\n",
              "       0.7362865 , 0.8619654 , 0.01006728, 0.86250806, 0.80916824,\n",
              "       0.70060064, 0.69731765, 0.7908579 , 0.5257099 , 0.89007341,\n",
              "       0.74004269, 0.3959619 , 0.4246494 ])>"
            ]
          },
          "metadata": {
            "tags": []
          },
          "execution_count": 21
        }
      ]
    },
    {
      "cell_type": "code",
      "metadata": {
        "id": "Rl2xIHSS08Jx",
        "colab_type": "code",
        "outputId": "81e04c35-39c6-481e-ab7f-e4b248df44b0",
        "colab": {
          "base_uri": "https://localhost:8080/",
          "height": 34
        }
      },
      "source": [
        "mean = tf.reduce_mean(container_dice)\n",
        "std = tf.math.reduce_std(container_dice)\n",
        "print(\"DICE score over gt and t2flair: {} ± {}\".format((f'{mean:.4f}'), (f'{std:.4f}')))"
      ],
      "execution_count": 0,
      "outputs": [
        {
          "output_type": "stream",
          "text": [
            "DICE score over gt and t2flair: 0.7299 ± 0.1887\n"
          ],
          "name": "stdout"
        }
      ]
    },
    {
      "cell_type": "markdown",
      "metadata": {
        "id": "q_GQaWkE2yHs",
        "colab_type": "text"
      },
      "source": [
        "## DICE score on (gt, MIGAN)"
      ]
    },
    {
      "cell_type": "code",
      "metadata": {
        "id": "PIbf0Nad21V1",
        "colab_type": "code",
        "outputId": "1a6df2c9-54be-4b90-9b96-e52eb17037c0",
        "colab": {
          "base_uri": "https://localhost:8080/",
          "height": 136
        }
      },
      "source": [
        "container_dice"
      ],
      "execution_count": 0,
      "outputs": [
        {
          "output_type": "execute_result",
          "data": {
            "text/plain": [
              "<tf.Tensor: id=25648, shape=(28,), dtype=float64, numpy=\n",
              "array([0.85538593, 0.77249052, 0.86899342, 0.70589565, 0.62153375,\n",
              "       0.78455406, 0.87824552, 0.86610122, 0.49031474, 0.82899991,\n",
              "       0.83403426, 0.649532  , 0.79222328, 0.86590943, 0.70837154,\n",
              "       0.62268291, 0.7516074 , 0.12076734, 0.83352452, 0.76525154,\n",
              "       0.62105848, 0.68337575, 0.68530644, 0.4852812 , 0.85630764,\n",
              "       0.47614489, 0.22451739, 0.02477787])>"
            ]
          },
          "metadata": {
            "tags": []
          },
          "execution_count": 24
        }
      ]
    },
    {
      "cell_type": "code",
      "metadata": {
        "id": "lEErSDEo22wF",
        "colab_type": "code",
        "outputId": "bf0e9adc-5e9a-4691-e5e4-57b9974cc52f",
        "colab": {
          "base_uri": "https://localhost:8080/",
          "height": 34
        }
      },
      "source": [
        "mean = tf.reduce_mean(container_dice)\n",
        "std = tf.math.reduce_std(container_dice)\n",
        "print(\"DICE score over gt and migan: {} ± {}\".format((f'{mean:.4f}'), (f'{std:.4f}')))"
      ],
      "execution_count": 0,
      "outputs": [
        {
          "output_type": "stream",
          "text": [
            "DICE score over gt and migan: 0.6669 ± 0.2230\n"
          ],
          "name": "stdout"
        }
      ]
    },
    {
      "cell_type": "markdown",
      "metadata": {
        "id": "p2yqX-fAzUxa",
        "colab_type": "text"
      },
      "source": [
        "## DICE score on (gt, p2p)\n"
      ]
    },
    {
      "cell_type": "code",
      "metadata": {
        "id": "q6Nd83cizWub",
        "colab_type": "code",
        "outputId": "10c49b5d-0e59-4e8b-d18f-2de00a97db9e",
        "colab": {
          "base_uri": "https://localhost:8080/",
          "height": 136
        }
      },
      "source": [
        "container_dice"
      ],
      "execution_count": 0,
      "outputs": [
        {
          "output_type": "execute_result",
          "data": {
            "text/plain": [
              "<tf.Tensor: id=13790, shape=(28,), dtype=float64, numpy=\n",
              "array([0.75928522, 0.78851789, 0.85249311, 0.67661334, 0.50759392,\n",
              "       0.60702578, 0.82140702, 0.89165958, 0.30447626, 0.7625636 ,\n",
              "       0.80853999, 0.64723085, 0.69426069, 0.69900598, 0.64931748,\n",
              "       0.64160358, 0.8009805 , 0.42146642, 0.76008735, 0.7387321 ,\n",
              "       0.55112124, 0.64175358, 0.60353996, 0.41266552, 0.89112252,\n",
              "       0.60599441, 0.15149178, 0.27374465])>"
            ]
          },
          "metadata": {
            "tags": []
          },
          "execution_count": 18
        }
      ]
    },
    {
      "cell_type": "code",
      "metadata": {
        "id": "8uuMJWT-zYDC",
        "colab_type": "code",
        "outputId": "c7f18266-8e68-47ea-c387-078f7a8357a4",
        "colab": {
          "base_uri": "https://localhost:8080/",
          "height": 34
        }
      },
      "source": [
        "mean = tf.reduce_mean(container_dice)\n",
        "std = tf.math.reduce_std(container_dice)\n",
        "print(\"DICE score over gt and t2flair: {} ± {}\".format((f'{mean:.4f}'), (f'{std:.4f}')))"
      ],
      "execution_count": 0,
      "outputs": [
        {
          "output_type": "stream",
          "text": [
            "DICE score over gt and t2flair: 0.6416 ± 0.1848\n"
          ],
          "name": "stdout"
        }
      ]
    },
    {
      "cell_type": "markdown",
      "metadata": {
        "id": "YCNBQEhd4BqD",
        "colab_type": "text"
      },
      "source": [
        "# With percentiles normalization of the predictions"
      ]
    },
    {
      "cell_type": "markdown",
      "metadata": {
        "id": "U0tgxkiG4sBR",
        "colab_type": "text"
      },
      "source": [
        "## DICE score on (gt, mip2p)\n",
        "\n"
      ]
    },
    {
      "cell_type": "code",
      "metadata": {
        "id": "8vuKVd6-8KWK",
        "colab_type": "code",
        "outputId": "bc87afa9-67bc-4ec9-c422-e13179ac093e",
        "colab": {
          "base_uri": "https://localhost:8080/"
        }
      },
      "source": [
        "print(container_dice)\n",
        "\n",
        "mean = tf.reduce_mean(container_dice)\n",
        "std = tf.math.reduce_std(container_dice)\n",
        "print(\"DICE score over gt and mip2p: {} ± {}\".format((f'{mean:.4f}'), (f'{std:.4f}')))"
      ],
      "execution_count": 0,
      "outputs": [
        {
          "output_type": "stream",
          "text": [
            "tf.Tensor(\n",
            "[0.78326773 0.58467534 0.65873188 0.57096129 0.77514061 0.52945723\n",
            " 0.8500253  0.69198775 0.5397469  0.80258518 0.87260101 0.56933825\n",
            " 0.74828612 0.70074805 0.4691462  0.85292472 0.86268747 0.31668003\n",
            " 0.87993466 0.71582344 0.75237888 0.74959867 0.82930426 0.6360773\n",
            " 0.82516454 0.33658388 0.36780611 0.25694267], shape=(28,), dtype=float64)\n",
            "DICE score over gt and mip2p: 0.6617 ± 0.1796\n"
          ],
          "name": "stdout"
        }
      ]
    },
    {
      "cell_type": "markdown",
      "metadata": {
        "id": "KNYhXsCK4icy",
        "colab_type": "text"
      },
      "source": [
        "## DICE score on (gt, migan)\n",
        "\n"
      ]
    },
    {
      "cell_type": "code",
      "metadata": {
        "id": "p4OrgXqN-Zkp",
        "colab_type": "code",
        "outputId": "43a02026-41c8-4dc4-e9c9-56c6f8240d5d",
        "colab": {
          "base_uri": "https://localhost:8080/"
        }
      },
      "source": [
        "print(container_dice)\n",
        "\n",
        "mean = tf.reduce_mean(container_dice)\n",
        "std = tf.math.reduce_std(container_dice)\n",
        "print(\"DICE score over gt and migan: {} ± {}\".format((f'{mean:.4f}'), (f'{std:.4f}')))"
      ],
      "execution_count": 0,
      "outputs": [
        {
          "output_type": "stream",
          "text": [
            "tf.Tensor(\n",
            "[0.79307568 0.61054935 0.55273914 0.57623986 0.72895002 0.49573261\n",
            " 0.84312292 0.62667637 0.34134988 0.80471552 0.86393173 0.53688661\n",
            " 0.75298484 0.65164821 0.41450613 0.80761802 0.8235148  0.32524679\n",
            " 0.86197186 0.70681439 0.63805613 0.70803437 0.80584187 0.61974479\n",
            " 0.78432089 0.21441903 0.29909907 0.07547695], shape=(28,), dtype=float64)\n",
            "DICE score over gt and migan: 0.6165 ± 0.2084\n"
          ],
          "name": "stdout"
        }
      ]
    },
    {
      "cell_type": "markdown",
      "metadata": {
        "id": "0720Hn4B39Sa",
        "colab_type": "text"
      },
      "source": [
        "## DICE score on (gt, p2p)"
      ]
    },
    {
      "cell_type": "code",
      "metadata": {
        "id": "miDEqsIs-bdZ",
        "colab_type": "code",
        "outputId": "55acc90c-e662-4d71-a99b-5431b1b4c419",
        "colab": {
          "base_uri": "https://localhost:8080/",
          "height": 136
        }
      },
      "source": [
        "print(container_dice)\n",
        "\n",
        "mean = tf.reduce_mean(container_dice)\n",
        "std = tf.math.reduce_std(container_dice)\n",
        "print(\"DICE score over gt and p2p: {} ± {}\".format((f'{mean:.4f}'), (f'{std:.4f}')))"
      ],
      "execution_count": 0,
      "outputs": [
        {
          "output_type": "stream",
          "text": [
            "tf.Tensor(\n",
            "[0.81189198 0.70030454 0.69352204 0.66701054 0.75425281 0.54884399\n",
            " 0.83786643 0.72838986 0.28606134 0.77453772 0.82565491 0.58400541\n",
            " 0.75812249 0.69006158 0.52016016 0.77689787 0.80889926 0.44336339\n",
            " 0.84789381 0.77553061 0.65979313 0.67415322 0.79715022 0.63236843\n",
            " 0.87035727 0.39238609 0.33623918 0.59424247], shape=(28,), dtype=float64)\n",
            "DICE score over gt and p2p: 0.6711 ± 0.1550\n"
          ],
          "name": "stdout"
        }
      ]
    }
  ]
}