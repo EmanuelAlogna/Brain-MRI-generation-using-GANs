{
  "nbformat": 4,
  "nbformat_minor": 0,
  "metadata": {
    "kernelspec": {
      "name": "python3",
      "display_name": "Python 3"
    },
    "language_info": {
      "codemirror_mode": {
        "name": "ipython",
        "version": 3
      },
      "file_extension": ".py",
      "mimetype": "text/x-python",
      "name": "python",
      "nbconvert_exporter": "python",
      "pygments_lexer": "ipython3",
      "version": "3.7.3"
    },
    "toc": {
      "base_numbering": 1,
      "nav_menu": {},
      "number_sections": true,
      "sideBar": true,
      "skip_h1_title": false,
      "title_cell": "Table of Contents",
      "title_sidebar": "Contents",
      "toc_cell": false,
      "toc_position": {},
      "toc_section_display": true,
      "toc_window_display": false
    },
    "colab": {
      "name": "compute_baselines.ipynb",
      "provenance": [],
      "collapsed_sections": [],
      "toc_visible": true,
      "machine_shape": "hm"
    },
    "accelerator": "GPU"
  },
  "cells": [
    {
      "cell_type": "markdown",
      "metadata": {
        "id": "8gfvAKewMUne",
        "colab_type": "text"
      },
      "source": [
        "## Import libraries and mount the drive"
      ]
    },
    {
      "cell_type": "code",
      "metadata": {
        "id": "ngnfgyxdgvDv",
        "colab_type": "code",
        "outputId": "d32438f6-dc6d-44cb-87e4-a0ab6c31d21d",
        "colab": {
          "base_uri": "https://localhost:8080/",
          "height": 156
        }
      },
      "source": [
        "try:\n",
        "  %tensorflow_version 2.x\n",
        "except Exception:\n",
        "  pass\n",
        "import tensorflow as tf\n",
        "from tensorflow import keras\n",
        "import numpy as np\n",
        "import matplotlib.pyplot as plt\n",
        "import os\n",
        "from IPython import display\n",
        "import time\n",
        "import math\n",
        "\n",
        "print(tf.__version__)\n",
        "\n",
        "from google.colab import drive\n",
        "drive.mount('/content/drive')"
      ],
      "execution_count": 0,
      "outputs": [
        {
          "output_type": "stream",
          "text": [
            "TensorFlow 2.x selected.\n",
            "2.1.0\n",
            "Go to this URL in a browser: https://accounts.google.com/o/oauth2/auth?client_id=947318989803-6bn6qk8qdgf4n4g3pfee6491hc0brc4i.apps.googleusercontent.com&redirect_uri=urn%3aietf%3awg%3aoauth%3a2.0%3aoob&response_type=code&scope=email%20https%3a%2f%2fwww.googleapis.com%2fauth%2fdocs.test%20https%3a%2f%2fwww.googleapis.com%2fauth%2fdrive%20https%3a%2f%2fwww.googleapis.com%2fauth%2fdrive.photos.readonly%20https%3a%2f%2fwww.googleapis.com%2fauth%2fpeopleapi.readonly\n",
            "\n",
            "Enter your authorization code:\n",
            "··········\n",
            "Mounted at /content/drive\n"
          ],
          "name": "stdout"
        }
      ]
    },
    {
      "cell_type": "code",
      "metadata": {
        "id": "cq9Qf-GdnIYm",
        "colab_type": "code",
        "colab": {}
      },
      "source": [
        "import sys\n",
        "sys.path.append('./drive/My Drive/Master_thesis/generation')\n",
        "from dataset_helpers import load_dataset\n",
        "from evaluation_metrics import compute_psnr, compute_ssim, compute_mse, compute_mse_tumor, compute_psnr_tumor"
      ],
      "execution_count": 0,
      "outputs": []
    },
    {
      "cell_type": "markdown",
      "metadata": {
        "id": "uUnILm4yPhpC",
        "colab_type": "text"
      },
      "source": [
        "## Loading the validation and test sets"
      ]
    },
    {
      "cell_type": "code",
      "metadata": {
        "id": "_3qisY-RnK4j",
        "colab_type": "code",
        "colab": {}
      },
      "source": [
        "def load_datasets():\n",
        "    validation = load_dataset(prefix_path + 'brats2015_validation_crop_mri.tfrecords', ['MR_T1', 'MR_T1c', 'MR_T2', 'MR_Flair'], batch_size=BATCH_SIZE, shuffle=False)\n",
        "    training = load_dataset(prefix_path + 'brats2015_training_crop_mri.tfrecords', ['MR_T1', 'MR_T1c', 'MR_T2', 'MR_Flair'], batch_size=BATCH_SIZE, shuffle=True)\n",
        "    testing = load_dataset(prefix_path + 'brats2015_testing_crop_mri.tfrecords', ['MR_T1', 'MR_T1c', 'MR_T2', 'MR_Flair'], batch_size=BATCH_SIZE, shuffle=True)\n",
        "    return training, validation , testing"
      ],
      "execution_count": 0,
      "outputs": []
    },
    {
      "cell_type": "code",
      "metadata": {
        "id": "gwb9ZO6fnMhT",
        "colab_type": "code",
        "colab": {}
      },
      "source": [
        "prefix_path = './drive/My Drive/Master_thesis/datasets/'\n",
        "BATCH_SIZE = 32\n",
        "\n",
        "training, validation, testing = load_datasets()"
      ],
      "execution_count": 0,
      "outputs": []
    },
    {
      "cell_type": "markdown",
      "metadata": {
        "id": "NxXd5khuN_Us",
        "colab_type": "text"
      },
      "source": [
        "## Load some useful functions\n",
        "\n",
        "\n"
      ]
    },
    {
      "cell_type": "code",
      "metadata": {
        "id": "MDybqCIjhEtp",
        "colab_type": "code",
        "colab": {}
      },
      "source": [
        "def resize_with_crop(*args): # possibile arguments: input, gt, prediction and maybe the segmentation\n",
        "\n",
        "    image0 = tf.image.resize_with_crop_or_pad(args[0], 155, 194)\n",
        "    image1 = tf.image.resize_with_crop_or_pad(args[1], 155, 194)\n",
        "    image2 = tf.image.resize_with_crop_or_pad(args[2], 155, 194)\n",
        "    image3 = tf.image.resize_with_crop_or_pad(args[3], 155, 194)\n",
        "    if len(args) == 5:      # crop also the segmentation, if is given as additional argument\n",
        "        image4 = tf.image.resize_with_crop_or_pad(args[4], 155, 194)\n",
        "        return image0, image1, image2, image3, image4\n",
        "    if len(args) == 6:      # crop also the segmentation, if is given as additional argument\n",
        "        image4 = tf.image.resize_with_crop_or_pad(args[4], 155, 194)\n",
        "        image5 = tf.image.resize_with_crop_or_pad(args[5], 155, 194)\n",
        "        return image0, image1, image2, image3, image4, image5\n",
        "    if len(args) == 7:      # crop also the segmentation, if is given as additional argument\n",
        "        image4 = tf.image.resize_with_crop_or_pad(args[4], 155, 194)\n",
        "        image5 = tf.image.resize_with_crop_or_pad(args[5], 155, 194)\n",
        "        image6 = tf.image.resize_with_crop_or_pad(args[6], 155, 194)\n",
        "        return image0, image1, image2, image3, image4, image5, image6\n",
        "    if len(args) == 8:      # crop also the segmentation, if is given as additional argument\n",
        "        image4 = tf.image.resize_with_crop_or_pad(args[4], 155, 194)\n",
        "        image5 = tf.image.resize_with_crop_or_pad(args[5], 155, 194)\n",
        "        image6 = tf.image.resize_with_crop_or_pad(args[6], 155, 194)\n",
        "        image7 = tf.image.resize_with_crop_or_pad(args[7], 155, 194)\n",
        "        return image0, image1, image2, image3, image4, image5, image6, image7\n",
        "    return image0, image1, image2, image3"
      ],
      "execution_count": 0,
      "outputs": []
    },
    {
      "cell_type": "code",
      "metadata": {
        "id": "R0DtPOglvkn_",
        "colab_type": "code",
        "colab": {}
      },
      "source": [
        "# MASK THE SEGMENTATION with the prediciton and the ground_truth and then compute the metrics (even if there is the black pixels\n",
        "# it should give me an idea about how much is going the generation of the tumor during the generation. of course the score\n",
        "# will be influeced (biased) by all the black pixels.)\n",
        "\n",
        "def retrieve_tumor_area(*args):  # ground_truth, prediction1, prediction2, segmentation, prediction3*\n",
        "    prediction1_np = args[0].numpy()\n",
        "    prediction2_np = args[1].numpy()\n",
        "    segmentation_np = args[2].numpy()\n",
        "    \n",
        "    idx = (segmentation_np==0)      \n",
        "    prediction1_np[idx] = segmentation_np[idx]\n",
        "    prediction2_np[idx] = segmentation_np[idx]\n",
        "    \n",
        "    return prediction1_np, prediction2_np"
      ],
      "execution_count": 0,
      "outputs": []
    },
    {
      "cell_type": "markdown",
      "metadata": {
        "id": "tlUe7ol7uUab",
        "colab_type": "text"
      },
      "source": [
        "## Mean normalization\n",
        "\n",
        "![alt text](https://wikimedia.org/api/rest_v1/media/math/render/svg/5c591a0eeba163a12f69f937adbae5886d6273db)\n",
        "\n",
        "In the paper they say: \"Each patient scan is normalized by dividing each sequence by its mean intensity value. \"\n",
        "But the formula is taken from a lecture from Andrew Ng, where he defines the Mean normalization as in the formula above. (resource: https://www.youtube.com/watch?v=e1nTgoDI_m8)\n",
        "\n",
        "See also: https://stats.stackexchange.com/questions/138046/normalizations-dividing-by-mean"
      ]
    },
    {
      "cell_type": "code",
      "metadata": {
        "id": "k4LLqv4puYxn",
        "colab_type": "code",
        "colab": {}
      },
      "source": [
        "def mean_rescale(x, xmin, xmax):\n",
        "    mean = tf.reduce_mean(x)\n",
        "    return ((x-mean)/(xmax-xmin)) "
      ],
      "execution_count": 0,
      "outputs": []
    },
    {
      "cell_type": "code",
      "metadata": {
        "id": "9I9cJ9_iubPK",
        "colab_type": "code",
        "colab": {}
      },
      "source": [
        "@tf.function\n",
        "def mean_normalize(image):\n",
        "    image_normalized = tf.TensorArray(tf.float32, size=BATCH_SIZE)\n",
        "    for i in range(BATCH_SIZE):\n",
        "        # rescaling each image in the batch\n",
        "        max_value = tf.math.reduce_max(image[i])\n",
        "        min_value = tf.math.reduce_min(image[i])\n",
        "        x = mean_rescale(image[i], min_value, max_value)\n",
        "        image_normalized = image_normalized.write(i, x)\n",
        "    image_normalized = image_normalized.stack()\n",
        "    return image_normalized"
      ],
      "execution_count": 0,
      "outputs": []
    },
    {
      "cell_type": "markdown",
      "metadata": {
        "id": "CexZ7tWcyRuz",
        "colab_type": "text"
      },
      "source": [
        "## Discard black images from batch (put values to 'nan')\n",
        "\n",
        "This normalization is just to test the metrics and see if there is a big difference in normalizing the prediction and the gt.\n",
        "This method is used to normalize (and so put to 'nan') only the black images, while the other images of the batch are kept with the original values. This allows me to discard the black images in the computation of the metrics."
      ]
    },
    {
      "cell_type": "code",
      "metadata": {
        "id": "R3RkK4z0ug06",
        "colab_type": "code",
        "colab": {}
      },
      "source": [
        "# this normalization is just to test the metrics and see if there is a big difference in normalizing the prediction and the gt.\n",
        "# this method is used to normalize (and so put to 'nan') only the black images, while the other images of the batch are kept \n",
        "# with the original values. This allows me to discard the black images in the computation of the metrics.\n",
        "\n",
        "def black_images_to_nan(image): \n",
        "    image_normalized = tf.TensorArray(tf.float32, size=BATCH_SIZE)\n",
        "    for i in range(BATCH_SIZE):\n",
        "        # rescaling each image in the batch\n",
        "        max_value = tf.math.reduce_max(image[i])\n",
        "        min_value = tf.math.reduce_min(image[i])\n",
        "\n",
        "        # if the max = min most likely it's a black image (or an image without any important information)\n",
        "        if tf.math.equal(max_value, min_value):        \n",
        "            print(\"I found a black image! at index {}\".format(i))\n",
        "            x = mean_normalize(image[i], min_value, max_value)\n",
        "            image_normalized = image_normalized.write(i, x)\n",
        "        else:\n",
        "            image_normalized = image_normalized.write(i, image[i])\n",
        "    image_normalized = image_normalized.stack()\n",
        "    return image_normalized"
      ],
      "execution_count": 0,
      "outputs": []
    },
    {
      "cell_type": "markdown",
      "metadata": {
        "id": "6QCBaM8SYlsw",
        "colab_type": "text"
      },
      "source": [
        "## Evaluate GAN"
      ]
    },
    {
      "cell_type": "code",
      "metadata": {
        "id": "I-CzmRXiYmCi",
        "colab_type": "code",
        "colab": {}
      },
      "source": [
        "def evaluate_GAN(dataset, set_type, first_sequence, second_sequence, evaluate_tumor_area=False):\n",
        "    num_batches = 0\n",
        "    if set_type == 'test':\n",
        "        num_batches = 112\n",
        "    elif set_type == 'validation':\n",
        "        num_batches = 108\n",
        "    elif set_type == 'train':\n",
        "        num_batches = 876\n",
        "    \n",
        "    #num_batches = 10\n",
        "    container_psnr = tf.TensorArray(tf.float32, size=num_batches)     \n",
        "    container_mse = tf.TensorArray(tf.float32, size=num_batches)\n",
        "    container_ssim = tf.TensorArray(tf.float32, size=num_batches)\n",
        "    \n",
        "    if evaluate_tumor_area:\n",
        "        container_psnr_tumor = tf.TensorArray(tf.float32, size=num_batches)     \n",
        "        container_mse_tumor = tf.TensorArray(tf.float32, size=num_batches)\n",
        "        container_ssim_tumor = tf.TensorArray(tf.float32, size=num_batches)\n",
        "    \n",
        "    for idx, (t1, t2, t1c, tflair, segmentation, patient) in dataset.enumerate():\n",
        "\n",
        "        # crop the images\n",
        "        t1_cr, t1c_cr, t2_cr, tflair_cr, segmentation_cr = resize_with_crop(t1, t1c, t2, tflair, segmentation)\n",
        "        \n",
        "        if first_sequence == 0:\n",
        "            prediction_normalized_cr = mean_normalize(t1_cr)\n",
        "        elif first_sequence == 1:\n",
        "            prediction_normalized_cr = mean_normalize(t2_cr)\n",
        "        elif first_sequence == 2:\n",
        "            prediction_normalized_cr = mean_normalize(t1c_cr)\n",
        "        elif first_sequence == 3:\n",
        "            prediction_normalized_cr = mean_normalize(tflair_cr)\n",
        "\n",
        "        if second_sequence == 0:\n",
        "            ground_truth_normalized_cr = mean_normalize(t1_cr)\n",
        "        elif second_sequence == 1:\n",
        "            ground_truth_normalized_cr = mean_normalize(t2_cr)\n",
        "        elif second_sequence == 2:\n",
        "            ground_truth_normalized_cr = mean_normalize(t1c_cr)\n",
        "        elif second_sequence == 3:\n",
        "            ground_truth_normalized_cr = mean_normalize(tflair_cr)\n",
        "\n",
        "        # compute the metrics of similarity\n",
        "        mean, std, psnr = compute_psnr(ground_truth_normalized_cr, prediction_normalized_cr)\n",
        "        container_psnr = container_psnr.write(idx, psnr)\n",
        "        mean, std, mse = compute_mse(ground_truth_normalized_cr, prediction_normalized_cr)\n",
        "        container_mse = container_mse.write(idx, mse)\n",
        "        mean, std, ssim = compute_ssim(ground_truth_normalized_cr, prediction_normalized_cr)\n",
        "        container_ssim = container_ssim.write(idx, ssim)\n",
        "\n",
        "        if evaluate_tumor_area:\n",
        "            ground_truth_masked_normalized, prediction_masked_normalized = retrieve_tumor_area(ground_truth_normalized_cr, prediction_normalized_cr, segmentation_cr)\n",
        "            mean, std, psnr = compute_psnr_tumor(ground_truth_masked_normalized, prediction_masked_normalized)\n",
        "            container_psnr_tumor = container_psnr_tumor.write(idx, psnr)\n",
        "            mean, std, mse = compute_mse_tumor(ground_truth_masked_normalized, prediction_masked_normalized)\n",
        "            container_mse_tumor = container_mse_tumor.write(idx, mse)\n",
        "            mean, std, ssim = compute_ssim(ground_truth_masked_normalized, prediction_masked_normalized)\n",
        "            container_ssim_tumor = container_ssim_tumor.write(idx, ssim)\n",
        "\n",
        "       # idx += 1\n",
        "    container_psnr = container_psnr.stack()\n",
        "    container_mse = container_mse.stack()\n",
        "    container_ssim = container_ssim.stack()\n",
        "    mean_psnr = tf.reduce_mean(tf.boolean_mask((container_psnr), tf.math.is_finite(container_psnr)))\n",
        "    std_psnr = tf.math.reduce_std(tf.boolean_mask((container_psnr), tf.math.is_finite(container_psnr)))\n",
        "    mean_mse = tf.reduce_mean(tf.boolean_mask((container_mse), tf.math.is_finite(container_mse)))\n",
        "    std_mse = tf.math.reduce_std(tf.boolean_mask((container_mse), tf.math.is_finite(container_mse)))\n",
        "    mean_ssim = tf.reduce_mean(tf.boolean_mask((container_ssim), tf.math.is_finite(container_ssim)))\n",
        "    std_ssim = tf.math.reduce_std(tf.boolean_mask((container_ssim), tf.math.is_finite(container_ssim)))\n",
        "\n",
        "    print(\"PSNR on {} set: {} ± {}\".format(set_type, (f'{mean_psnr:.4f}'), (f'{std_psnr:.4f}')))\n",
        "    print(\"MSE on {} set: {} ± {}\".format(set_type, (f'{mean_mse:.4f}'), (f'{std_mse:.4f}')))\n",
        "    print(\"SSIM on {} set: {} ± {}\".format(set_type, (f'{mean_ssim:.4f}'), (f'{std_ssim:.4f}')))\n",
        "\n",
        "    if evaluate_tumor_area:\n",
        "        container_psnr_tumor = container_psnr_tumor.stack()\n",
        "        container_mse_tumor = container_mse_tumor.stack()\n",
        "        container_ssim_tumor = container_ssim_tumor.stack()\n",
        "        threshold = 228\n",
        "        container_psnr_tumor = tf.boolean_mask((container_psnr_tumor), tf.math.is_finite(container_psnr_tumor))\n",
        "        container_psnr_tumor = container_psnr_tumor[container_psnr_tumor < threshold]\n",
        "\n",
        "        mean_psnr_tumor = tf.reduce_mean(container_psnr_tumor)\n",
        "        std_psnr_tumor = tf.math.reduce_std(container_psnr_tumor)\n",
        "        mean_mse_tumor = tf.reduce_mean(tf.boolean_mask((container_mse_tumor), tf.math.is_finite(container_mse_tumor)))\n",
        "        std_mse_tumor = tf.math.reduce_std(tf.boolean_mask((container_mse_tumor), tf.math.is_finite(container_mse_tumor)))\n",
        "        mean_ssim_tumor = tf.reduce_mean(tf.boolean_mask((container_ssim_tumor), tf.math.is_finite(container_ssim_tumor)))\n",
        "        std_ssim_tumor = tf.math.reduce_std(tf.boolean_mask((container_ssim_tumor), tf.math.is_finite(container_ssim_tumor)))\n",
        "        print()\n",
        "        print(\"PSNR wrt tumor area on {} set: {} ± {}\".format(set_type, (f'{mean_psnr_tumor:.4f}'), (f'{std_psnr_tumor:.4f}')))\n",
        "        print(\"MSE wrt tumor area on {} set: {} ± {}\".format(set_type, (f'{mean_mse_tumor:.4f}'), (f'{std_mse_tumor:.4f}')))\n",
        "        print(\"SSIM wrt tumor area on {} set: {} ± {}\".format(set_type, (f'{mean_ssim_tumor:.4f}'), (f'{std_ssim_tumor:.4f}')))"
      ],
      "execution_count": 0,
      "outputs": []
    },
    {
      "cell_type": "markdown",
      "metadata": {
        "id": "5SRYbeH8dE85",
        "colab_type": "text"
      },
      "source": [
        "#T1 and T2"
      ]
    },
    {
      "cell_type": "code",
      "metadata": {
        "id": "cBqecSREarpx",
        "colab_type": "code",
        "outputId": "8026467b-c28a-4313-edb1-93040382b01a",
        "colab": {
          "base_uri": "https://localhost:8080/",
          "height": 136
        }
      },
      "source": [
        "evaluate_GAN(dataset=testing, set_type='test', first_sequence=0, second_sequence=1, evaluate_tumor_area=True)"
      ],
      "execution_count": 0,
      "outputs": [
        {
          "output_type": "stream",
          "text": [
            "PSNR on test set: 15.3286 ± 4.2134\n",
            "MSE on test set: 0.0396 ± 0.0275\n",
            "SSIM on test set: 0.5054 ± 0.2116\n",
            "\n",
            "PSNR wrt tumor area on test set: 13.6678 ± 3.6085\n",
            "MSE wrt tumor area on test set: 0.0594 ± 0.0523\n",
            "SSIM wrt tumor area on test set: 0.9690 ± 0.0449\n"
          ],
          "name": "stdout"
        }
      ]
    },
    {
      "cell_type": "markdown",
      "metadata": {
        "id": "GY7x7Q-QdOrL",
        "colab_type": "text"
      },
      "source": [
        "#T1 and T1c"
      ]
    },
    {
      "cell_type": "code",
      "metadata": {
        "id": "_tnjQehCdC2Y",
        "colab_type": "code",
        "outputId": "b547bd99-7e2e-4e64-fcb1-c3e710d30fd7",
        "colab": {
          "base_uri": "https://localhost:8080/",
          "height": 136
        }
      },
      "source": [
        "evaluate_GAN(dataset=testing, set_type='test', first_sequence=0, second_sequence=2, evaluate_tumor_area=True)"
      ],
      "execution_count": 0,
      "outputs": [
        {
          "output_type": "stream",
          "text": [
            "PSNR on test set: 23.8431 ± 4.0912\n",
            "MSE on test set: 0.0058 ± 0.0050\n",
            "SSIM on test set: 0.8096 ± 0.0984\n",
            "\n",
            "PSNR wrt tumor area on test set: 20.1544 ± 5.0543\n",
            "MSE wrt tumor area on test set: 0.0173 ± 0.0216\n",
            "SSIM wrt tumor area on test set: 0.9833 ± 0.0272\n"
          ],
          "name": "stdout"
        }
      ]
    },
    {
      "cell_type": "markdown",
      "metadata": {
        "id": "DbKS3b6JdRXH",
        "colab_type": "text"
      },
      "source": [
        "#T1 and T2Flair"
      ]
    },
    {
      "cell_type": "code",
      "metadata": {
        "id": "4g0EhODqdTMN",
        "colab_type": "code",
        "outputId": "1da5c705-0fcf-4721-aaf1-6c34c3ed60bb",
        "colab": {
          "base_uri": "https://localhost:8080/",
          "height": 136
        }
      },
      "source": [
        "evaluate_GAN(dataset=testing, set_type='test', first_sequence=0, second_sequence=3, evaluate_tumor_area=True)"
      ],
      "execution_count": 0,
      "outputs": [
        {
          "output_type": "stream",
          "text": [
            "PSNR on test set: 19.9617 ± 4.9249\n",
            "MSE on test set: 0.0155 ± 0.0131\n",
            "SSIM on test set: 0.6876 ± 0.1628\n",
            "\n",
            "PSNR wrt tumor area on test set: 14.6198 ± 3.7807\n",
            "MSE wrt tumor area on test set: 0.0461 ± 0.0319\n",
            "SSIM wrt tumor area on test set: 0.9786 ± 0.0324\n"
          ],
          "name": "stdout"
        }
      ]
    },
    {
      "cell_type": "markdown",
      "metadata": {
        "id": "FanfTEQWdmjw",
        "colab_type": "text"
      },
      "source": [
        "#T2 and T1c"
      ]
    },
    {
      "cell_type": "code",
      "metadata": {
        "id": "-o0C00jQdiFo",
        "colab_type": "code",
        "outputId": "5f26e417-d373-47ba-b149-76b522168924",
        "colab": {
          "base_uri": "https://localhost:8080/",
          "height": 136
        }
      },
      "source": [
        "evaluate_GAN(dataset=testing, set_type='test', first_sequence=1, second_sequence=2, evaluate_tumor_area=True)"
      ],
      "execution_count": 0,
      "outputs": [
        {
          "output_type": "stream",
          "text": [
            "PSNR on test set: 15.5055 ± 4.2370\n",
            "MSE on test set: 0.0387 ± 0.0281\n",
            "SSIM on test set: 0.5209 ± 0.2061\n",
            "\n",
            "PSNR wrt tumor area on test set: 13.3221 ± 3.9869\n",
            "MSE wrt tumor area on test set: 0.0695 ± 0.0718\n",
            "SSIM wrt tumor area on test set: 0.9679 ± 0.0469\n"
          ],
          "name": "stdout"
        }
      ]
    },
    {
      "cell_type": "markdown",
      "metadata": {
        "id": "S2YXUIsXdoDB",
        "colab_type": "text"
      },
      "source": [
        "#T2 and T2Flair"
      ]
    },
    {
      "cell_type": "code",
      "metadata": {
        "id": "kbHfFvtgd41R",
        "colab_type": "code",
        "outputId": "11d15e2b-40c0-4497-864e-f70c4adef282",
        "colab": {
          "base_uri": "https://localhost:8080/",
          "height": 136
        }
      },
      "source": [
        "evaluate_GAN(dataset=testing, set_type='test', first_sequence=1, second_sequence=3, evaluate_tumor_area=True)"
      ],
      "execution_count": 0,
      "outputs": [
        {
          "output_type": "stream",
          "text": [
            "PSNR on test set: 16.8268 ± 3.9727\n",
            "MSE on test set: 0.0275 ± 0.0199\n",
            "SSIM on test set: 0.6262 ± 0.1597\n",
            "\n",
            "PSNR wrt tumor area on test set: 15.1591 ± 4.0428\n",
            "MSE wrt tumor area on test set: 0.0464 ± 0.0500\n",
            "SSIM wrt tumor area on test set: 0.9790 ± 0.0309\n"
          ],
          "name": "stdout"
        }
      ]
    },
    {
      "cell_type": "markdown",
      "metadata": {
        "id": "GO5Ydkh5d8ww",
        "colab_type": "text"
      },
      "source": [
        "#T1c and T2Flair"
      ]
    },
    {
      "cell_type": "code",
      "metadata": {
        "id": "T-5FJNZHd-yj",
        "colab_type": "code",
        "outputId": "d7684950-0027-4ffa-f47c-4140c8fb05f1",
        "colab": {
          "base_uri": "https://localhost:8080/",
          "height": 136
        }
      },
      "source": [
        "evaluate_GAN(dataset=testing, set_type='test', first_sequence=2, second_sequence=3, evaluate_tumor_area=True)"
      ],
      "execution_count": 0,
      "outputs": [
        {
          "output_type": "stream",
          "text": [
            "PSNR on test set: 19.0751 ± 4.2967\n",
            "MSE on test set: 0.0171 ± 0.0114\n",
            "SSIM on test set: 0.6562 ± 0.1678\n",
            "\n",
            "PSNR wrt tumor area on test set: 13.7912 ± 3.9420\n",
            "MSE wrt tumor area on test set: 0.0607 ± 0.0647\n",
            "SSIM wrt tumor area on test set: 0.9748 ± 0.0384\n"
          ],
          "name": "stdout"
        }
      ]
    }
  ]
}